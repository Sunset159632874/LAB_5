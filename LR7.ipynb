{
 "cells": [
  {
   "cell_type": "code",
   "execution_count": 42,
   "id": "e610411e",
   "metadata": {},
   "outputs": [],
   "source": [
    "import pandas as pd\n",
    "import numpy as np\n",
    "import matplotlib.pyplot as plt\n",
    "import seaborn as sns \n",
    "from scipy import stats as st\n",
    "import math as math\n",
    "import datetime as dt"
   ]
  },
  {
   "cell_type": "markdown",
   "id": "7a0cda45",
   "metadata": {},
   "source": [
    "# Импортирование датасетов и  обработка их данных"
   ]
  },
  {
   "cell_type": "code",
   "execution_count": 2,
   "id": "0cea06a0",
   "metadata": {},
   "outputs": [],
   "source": [
    "orders = pd.read_csv('orders.csv', delimiter=',')\n",
    "visitors = pd.read_csv('visitors.csv', delimiter=',')"
   ]
  },
  {
   "cell_type": "code",
   "execution_count": 3,
   "id": "1fdfc396",
   "metadata": {},
   "outputs": [
    {
     "data": {
      "text/html": [
       "<div>\n",
       "<style scoped>\n",
       "    .dataframe tbody tr th:only-of-type {\n",
       "        vertical-align: middle;\n",
       "    }\n",
       "\n",
       "    .dataframe tbody tr th {\n",
       "        vertical-align: top;\n",
       "    }\n",
       "\n",
       "    .dataframe thead th {\n",
       "        text-align: right;\n",
       "    }\n",
       "</style>\n",
       "<table border=\"1\" class=\"dataframe\">\n",
       "  <thead>\n",
       "    <tr style=\"text-align: right;\">\n",
       "      <th></th>\n",
       "      <th>transactionId</th>\n",
       "      <th>visitorId</th>\n",
       "      <th>date</th>\n",
       "      <th>revenue</th>\n",
       "      <th>group</th>\n",
       "    </tr>\n",
       "  </thead>\n",
       "  <tbody>\n",
       "    <tr>\n",
       "      <th>0</th>\n",
       "      <td>3667963787</td>\n",
       "      <td>3312258926</td>\n",
       "      <td>2019-08-15</td>\n",
       "      <td>1650</td>\n",
       "      <td>B</td>\n",
       "    </tr>\n",
       "    <tr>\n",
       "      <th>1</th>\n",
       "      <td>2804400009</td>\n",
       "      <td>3642806036</td>\n",
       "      <td>2019-08-15</td>\n",
       "      <td>730</td>\n",
       "      <td>B</td>\n",
       "    </tr>\n",
       "    <tr>\n",
       "      <th>2</th>\n",
       "      <td>2961555356</td>\n",
       "      <td>4069496402</td>\n",
       "      <td>2019-08-15</td>\n",
       "      <td>400</td>\n",
       "      <td>A</td>\n",
       "    </tr>\n",
       "    <tr>\n",
       "      <th>3</th>\n",
       "      <td>3797467345</td>\n",
       "      <td>1196621759</td>\n",
       "      <td>2019-08-15</td>\n",
       "      <td>9759</td>\n",
       "      <td>B</td>\n",
       "    </tr>\n",
       "    <tr>\n",
       "      <th>4</th>\n",
       "      <td>2282983706</td>\n",
       "      <td>2322279887</td>\n",
       "      <td>2019-08-15</td>\n",
       "      <td>2308</td>\n",
       "      <td>B</td>\n",
       "    </tr>\n",
       "    <tr>\n",
       "      <th>5</th>\n",
       "      <td>182168103</td>\n",
       "      <td>935554773</td>\n",
       "      <td>2019-08-15</td>\n",
       "      <td>2210</td>\n",
       "      <td>B</td>\n",
       "    </tr>\n",
       "    <tr>\n",
       "      <th>6</th>\n",
       "      <td>398296753</td>\n",
       "      <td>2900797465</td>\n",
       "      <td>2019-08-15</td>\n",
       "      <td>1860</td>\n",
       "      <td>B</td>\n",
       "    </tr>\n",
       "    <tr>\n",
       "      <th>7</th>\n",
       "      <td>2626614568</td>\n",
       "      <td>78758296</td>\n",
       "      <td>2019-08-15</td>\n",
       "      <td>1044</td>\n",
       "      <td>A</td>\n",
       "    </tr>\n",
       "    <tr>\n",
       "      <th>8</th>\n",
       "      <td>1576988021</td>\n",
       "      <td>295230930</td>\n",
       "      <td>2019-08-15</td>\n",
       "      <td>13710</td>\n",
       "      <td>A</td>\n",
       "    </tr>\n",
       "    <tr>\n",
       "      <th>9</th>\n",
       "      <td>1506739906</td>\n",
       "      <td>1882260405</td>\n",
       "      <td>2019-08-15</td>\n",
       "      <td>1855</td>\n",
       "      <td>B</td>\n",
       "    </tr>\n",
       "    <tr>\n",
       "      <th>10</th>\n",
       "      <td>3649131742</td>\n",
       "      <td>879864040</td>\n",
       "      <td>2019-08-15</td>\n",
       "      <td>4008</td>\n",
       "      <td>A</td>\n",
       "    </tr>\n",
       "    <tr>\n",
       "      <th>11</th>\n",
       "      <td>1919444843</td>\n",
       "      <td>927791387</td>\n",
       "      <td>2019-08-15</td>\n",
       "      <td>4499</td>\n",
       "      <td>B</td>\n",
       "    </tr>\n",
       "    <tr>\n",
       "      <th>12</th>\n",
       "      <td>2809384911</td>\n",
       "      <td>3213223594</td>\n",
       "      <td>2019-08-15</td>\n",
       "      <td>7370</td>\n",
       "      <td>A</td>\n",
       "    </tr>\n",
       "    <tr>\n",
       "      <th>13</th>\n",
       "      <td>3044797713</td>\n",
       "      <td>728063420</td>\n",
       "      <td>2019-08-15</td>\n",
       "      <td>11985</td>\n",
       "      <td>B</td>\n",
       "    </tr>\n",
       "    <tr>\n",
       "      <th>14</th>\n",
       "      <td>3859315276</td>\n",
       "      <td>1565034404</td>\n",
       "      <td>2019-08-15</td>\n",
       "      <td>10980</td>\n",
       "      <td>A</td>\n",
       "    </tr>\n",
       "    <tr>\n",
       "      <th>15</th>\n",
       "      <td>2550768810</td>\n",
       "      <td>2742574263</td>\n",
       "      <td>2019-08-15</td>\n",
       "      <td>15277</td>\n",
       "      <td>B</td>\n",
       "    </tr>\n",
       "    <tr>\n",
       "      <th>16</th>\n",
       "      <td>1820531107</td>\n",
       "      <td>2973109265</td>\n",
       "      <td>2019-08-15</td>\n",
       "      <td>1060</td>\n",
       "      <td>B</td>\n",
       "    </tr>\n",
       "    <tr>\n",
       "      <th>17</th>\n",
       "      <td>1108180333</td>\n",
       "      <td>222718357</td>\n",
       "      <td>2019-08-15</td>\n",
       "      <td>990</td>\n",
       "      <td>B</td>\n",
       "    </tr>\n",
       "    <tr>\n",
       "      <th>18</th>\n",
       "      <td>1822256754</td>\n",
       "      <td>4227830084</td>\n",
       "      <td>2019-08-15</td>\n",
       "      <td>16490</td>\n",
       "      <td>A</td>\n",
       "    </tr>\n",
       "    <tr>\n",
       "      <th>19</th>\n",
       "      <td>674584210</td>\n",
       "      <td>3207734412</td>\n",
       "      <td>2019-08-15</td>\n",
       "      <td>1190</td>\n",
       "      <td>A</td>\n",
       "    </tr>\n",
       "  </tbody>\n",
       "</table>\n",
       "</div>"
      ],
      "text/plain": [
       "    transactionId   visitorId        date  revenue group\n",
       "0      3667963787  3312258926  2019-08-15     1650     B\n",
       "1      2804400009  3642806036  2019-08-15      730     B\n",
       "2      2961555356  4069496402  2019-08-15      400     A\n",
       "3      3797467345  1196621759  2019-08-15     9759     B\n",
       "4      2282983706  2322279887  2019-08-15     2308     B\n",
       "5       182168103   935554773  2019-08-15     2210     B\n",
       "6       398296753  2900797465  2019-08-15     1860     B\n",
       "7      2626614568    78758296  2019-08-15     1044     A\n",
       "8      1576988021   295230930  2019-08-15    13710     A\n",
       "9      1506739906  1882260405  2019-08-15     1855     B\n",
       "10     3649131742   879864040  2019-08-15     4008     A\n",
       "11     1919444843   927791387  2019-08-15     4499     B\n",
       "12     2809384911  3213223594  2019-08-15     7370     A\n",
       "13     3044797713   728063420  2019-08-15    11985     B\n",
       "14     3859315276  1565034404  2019-08-15    10980     A\n",
       "15     2550768810  2742574263  2019-08-15    15277     B\n",
       "16     1820531107  2973109265  2019-08-15     1060     B\n",
       "17     1108180333   222718357  2019-08-15      990     B\n",
       "18     1822256754  4227830084  2019-08-15    16490     A\n",
       "19      674584210  3207734412  2019-08-15     1190     A"
      ]
     },
     "execution_count": 3,
     "metadata": {},
     "output_type": "execute_result"
    }
   ],
   "source": [
    "orders.head(20)"
   ]
  },
  {
   "cell_type": "markdown",
   "id": "ad78933f",
   "metadata": {},
   "source": [
    "Вывод первых 20 строк датафрейма. Датасет содержит информацию о заказах<br>\n",
    "\n",
    "<li>transactionId — идентификатор заказа;<br>\n",
    "<li>visitorId — идентификатор пользователя, совершившего заказ;<br>\n",
    "<li>date — дата, когда был совершён заказ;<br>\n",
    "<li>revenue — выручка заказа;<br>\n",
    "<li>group — группа A/B-теста, в которую попал заказ<br>"
   ]
  },
  {
   "cell_type": "code",
   "execution_count": 4,
   "id": "12d3641f",
   "metadata": {},
   "outputs": [
    {
     "data": {
      "text/html": [
       "<div>\n",
       "<style scoped>\n",
       "    .dataframe tbody tr th:only-of-type {\n",
       "        vertical-align: middle;\n",
       "    }\n",
       "\n",
       "    .dataframe tbody tr th {\n",
       "        vertical-align: top;\n",
       "    }\n",
       "\n",
       "    .dataframe thead th {\n",
       "        text-align: right;\n",
       "    }\n",
       "</style>\n",
       "<table border=\"1\" class=\"dataframe\">\n",
       "  <thead>\n",
       "    <tr style=\"text-align: right;\">\n",
       "      <th></th>\n",
       "      <th>date</th>\n",
       "      <th>group</th>\n",
       "      <th>visitors</th>\n",
       "    </tr>\n",
       "  </thead>\n",
       "  <tbody>\n",
       "    <tr>\n",
       "      <th>0</th>\n",
       "      <td>2019-08-01</td>\n",
       "      <td>A</td>\n",
       "      <td>719</td>\n",
       "    </tr>\n",
       "    <tr>\n",
       "      <th>1</th>\n",
       "      <td>2019-08-02</td>\n",
       "      <td>A</td>\n",
       "      <td>619</td>\n",
       "    </tr>\n",
       "    <tr>\n",
       "      <th>2</th>\n",
       "      <td>2019-08-03</td>\n",
       "      <td>A</td>\n",
       "      <td>507</td>\n",
       "    </tr>\n",
       "    <tr>\n",
       "      <th>3</th>\n",
       "      <td>2019-08-04</td>\n",
       "      <td>A</td>\n",
       "      <td>717</td>\n",
       "    </tr>\n",
       "    <tr>\n",
       "      <th>4</th>\n",
       "      <td>2019-08-05</td>\n",
       "      <td>A</td>\n",
       "      <td>756</td>\n",
       "    </tr>\n",
       "    <tr>\n",
       "      <th>5</th>\n",
       "      <td>2019-08-06</td>\n",
       "      <td>A</td>\n",
       "      <td>667</td>\n",
       "    </tr>\n",
       "    <tr>\n",
       "      <th>6</th>\n",
       "      <td>2019-08-07</td>\n",
       "      <td>A</td>\n",
       "      <td>644</td>\n",
       "    </tr>\n",
       "    <tr>\n",
       "      <th>7</th>\n",
       "      <td>2019-08-08</td>\n",
       "      <td>A</td>\n",
       "      <td>610</td>\n",
       "    </tr>\n",
       "    <tr>\n",
       "      <th>8</th>\n",
       "      <td>2019-08-09</td>\n",
       "      <td>A</td>\n",
       "      <td>617</td>\n",
       "    </tr>\n",
       "    <tr>\n",
       "      <th>9</th>\n",
       "      <td>2019-08-10</td>\n",
       "      <td>A</td>\n",
       "      <td>406</td>\n",
       "    </tr>\n",
       "    <tr>\n",
       "      <th>10</th>\n",
       "      <td>2019-08-11</td>\n",
       "      <td>A</td>\n",
       "      <td>718</td>\n",
       "    </tr>\n",
       "    <tr>\n",
       "      <th>11</th>\n",
       "      <td>2019-08-12</td>\n",
       "      <td>A</td>\n",
       "      <td>595</td>\n",
       "    </tr>\n",
       "    <tr>\n",
       "      <th>12</th>\n",
       "      <td>2019-08-13</td>\n",
       "      <td>A</td>\n",
       "      <td>748</td>\n",
       "    </tr>\n",
       "    <tr>\n",
       "      <th>13</th>\n",
       "      <td>2019-08-14</td>\n",
       "      <td>A</td>\n",
       "      <td>735</td>\n",
       "    </tr>\n",
       "    <tr>\n",
       "      <th>14</th>\n",
       "      <td>2019-08-15</td>\n",
       "      <td>A</td>\n",
       "      <td>628</td>\n",
       "    </tr>\n",
       "    <tr>\n",
       "      <th>15</th>\n",
       "      <td>2019-08-16</td>\n",
       "      <td>A</td>\n",
       "      <td>361</td>\n",
       "    </tr>\n",
       "    <tr>\n",
       "      <th>16</th>\n",
       "      <td>2019-08-17</td>\n",
       "      <td>A</td>\n",
       "      <td>412</td>\n",
       "    </tr>\n",
       "    <tr>\n",
       "      <th>17</th>\n",
       "      <td>2019-08-18</td>\n",
       "      <td>A</td>\n",
       "      <td>668</td>\n",
       "    </tr>\n",
       "    <tr>\n",
       "      <th>18</th>\n",
       "      <td>2019-08-19</td>\n",
       "      <td>A</td>\n",
       "      <td>502</td>\n",
       "    </tr>\n",
       "    <tr>\n",
       "      <th>19</th>\n",
       "      <td>2019-08-20</td>\n",
       "      <td>A</td>\n",
       "      <td>575</td>\n",
       "    </tr>\n",
       "  </tbody>\n",
       "</table>\n",
       "</div>"
      ],
      "text/plain": [
       "          date group  visitors\n",
       "0   2019-08-01     A       719\n",
       "1   2019-08-02     A       619\n",
       "2   2019-08-03     A       507\n",
       "3   2019-08-04     A       717\n",
       "4   2019-08-05     A       756\n",
       "5   2019-08-06     A       667\n",
       "6   2019-08-07     A       644\n",
       "7   2019-08-08     A       610\n",
       "8   2019-08-09     A       617\n",
       "9   2019-08-10     A       406\n",
       "10  2019-08-11     A       718\n",
       "11  2019-08-12     A       595\n",
       "12  2019-08-13     A       748\n",
       "13  2019-08-14     A       735\n",
       "14  2019-08-15     A       628\n",
       "15  2019-08-16     A       361\n",
       "16  2019-08-17     A       412\n",
       "17  2019-08-18     A       668\n",
       "18  2019-08-19     A       502\n",
       "19  2019-08-20     A       575"
      ]
     },
     "execution_count": 4,
     "metadata": {},
     "output_type": "execute_result"
    }
   ],
   "source": [
    "visitors.head(20)"
   ]
  },
  {
   "cell_type": "markdown",
   "id": "c62ee01b",
   "metadata": {},
   "source": [
    "Вывод первых 20 строк датафрейма. Датасет содержит информацию о количестве посетитетлей<br>\n",
    "<li>date — дата;<br>\n",
    "<li>group — группа A/B-теста;<br>\n",
    "<li>visitors — количество пользователей в указанную дату в указанной группе A/B-теста"
   ]
  },
  {
   "cell_type": "markdown",
   "id": "c3fc9a33",
   "metadata": {},
   "source": [
    "<h3> Датасет Orders"
   ]
  },
  {
   "cell_type": "code",
   "execution_count": 5,
   "id": "083d666c",
   "metadata": {},
   "outputs": [
    {
     "name": "stdout",
     "output_type": "stream",
     "text": [
      "<class 'pandas.core.frame.DataFrame'>\n",
      "RangeIndex: 1197 entries, 0 to 1196\n",
      "Data columns (total 5 columns):\n",
      " #   Column         Non-Null Count  Dtype \n",
      "---  ------         --------------  ----- \n",
      " 0   transactionId  1197 non-null   int64 \n",
      " 1   visitorId      1197 non-null   int64 \n",
      " 2   date           1197 non-null   object\n",
      " 3   revenue        1197 non-null   int64 \n",
      " 4   group          1197 non-null   object\n",
      "dtypes: int64(3), object(2)\n",
      "memory usage: 46.9+ KB\n"
     ]
    }
   ],
   "source": [
    "orders.info()"
   ]
  },
  {
   "cell_type": "markdown",
   "id": "6b635490",
   "metadata": {},
   "source": [
    "Оценка данных. Датасет имеет триннадцать столбцов, 1197 значений, 3 столбца имеет тип int, другие object."
   ]
  },
  {
   "cell_type": "code",
   "execution_count": 6,
   "id": "c0c300d6",
   "metadata": {},
   "outputs": [
    {
     "data": {
      "text/plain": [
       "transactionId    0\n",
       "visitorId        0\n",
       "date             0\n",
       "revenue          0\n",
       "group            0\n",
       "dtype: int64"
      ]
     },
     "execution_count": 6,
     "metadata": {},
     "output_type": "execute_result"
    }
   ],
   "source": [
    "orders.isna().sum()"
   ]
  },
  {
   "cell_type": "markdown",
   "id": "8ae97d11",
   "metadata": {},
   "source": [
    "Проверка на пропуски (пропусков не обнаружено)"
   ]
  },
  {
   "cell_type": "code",
   "execution_count": 7,
   "id": "bc7918dc",
   "metadata": {},
   "outputs": [
    {
     "data": {
      "text/plain": [
       "0"
      ]
     },
     "execution_count": 7,
     "metadata": {},
     "output_type": "execute_result"
    }
   ],
   "source": [
    "orders.duplicated().sum()"
   ]
  },
  {
   "cell_type": "markdown",
   "id": "cdad7ebf",
   "metadata": {},
   "source": [
    "Проверка на явные дубликаты (явных дубликатов не обнаружено)"
   ]
  },
  {
   "cell_type": "code",
   "execution_count": 8,
   "id": "9cc6a894",
   "metadata": {},
   "outputs": [
    {
     "name": "stdout",
     "output_type": "stream",
     "text": [
      "[3667963787 2804400009 2961555356 ... 1807773912 1947021204 3936777065]\n",
      "[3312258926 3642806036 4069496402 ...  370388673  573423106 2108080724]\n",
      "['2019-08-15' '2019-08-16' '2019-08-01' '2019-08-22' '2019-08-17'\n",
      " '2019-08-23' '2019-08-02' '2019-08-18' '2019-08-24' '2019-08-03'\n",
      " '2019-08-25' '2019-08-28' '2019-08-19' '2019-08-06' '2019-08-26'\n",
      " '2019-08-29' '2019-08-04' '2019-08-20' '2019-08-09' '2019-08-07'\n",
      " '2019-08-30' '2019-08-05' '2019-08-27' '2019-08-21' '2019-08-08'\n",
      " '2019-08-10' '2019-08-31' '2019-08-11' '2019-08-12' '2019-08-13'\n",
      " '2019-08-14']\n",
      "[   1650     730     400    9759    2308    2210    1860    1044   13710\n",
      "    1855    4008    4499    7370   11985   10980   15277    1060     990\n",
      "   16490    1190     300    1050     632   15185    7555    3488    7620\n",
      "    5280     700     190     383    1680   22785    2355    2470    6250\n",
      "   19260     610    2986    1090    9290    2480    3000    2140    3590\n",
      "    6990    1250    2970   18100     100    2750     570    2978    1440\n",
      "    7860   56650     790    1350    2540    1710    2350   14610    8999\n",
      "   10510   29499     780     890    4400   32350   40740    2490    2080\n",
      "    5400    5100    4020     690   12350    1290     382    2110    1490\n",
      "   17868    1940   26550    5970     987    9024    5555    7129    3240\n",
      "    2995    2550   17600     850    5365    8390    5870    5020   14489\n",
      "    8470    1630    5800     172    6230     760    3390    4480    1139\n",
      "   12336    1450    7990    5099    9400    6441    3070    6145   53904\n",
      "    6922    5190    6976    7690     426   28490     390     299    6329\n",
      "    8800    2990    9448    2920    9980    1790    4970    3760    8090\n",
      "   11990   18900    6420    1990     650     436    1038    1780    3564\n",
      "    3340    5480   38160    2800    3040     995    3210     310    2090\n",
      "    3468     778    5740    4580    1840    1550   17990     290    6940\n",
      "    1690    5369   11115     165    2646    2220    2190    2845    1799\n",
      "    1498    9850    6700     500    2640    4717   30649    5640    2820\n",
      "   17422   14155    4185   10960    1140    1310    1380   10791    9310\n",
      "    3470    2955   15850   27550   15485    6201    2320     599     660\n",
      "    6149    2938   10590     110   12810    9880     920   15417     950\n",
      "    2339    3190    2360   16950   34340    1620   14271    1920     380\n",
      "    8240     282   10970     170    1922   14400   19538   10450    2290\n",
      "    1830   33970    1100    4877   12680     860    3354    1000    6890\n",
      "    4299   12562     420   23750    6350     490   22040    2950    2342\n",
      "    5622    7485    1200    2057      76    1900    2690   20219    4195\n",
      "     830    2330    2526    1435    1460     250    6194    3460    5070\n",
      "    8850    1410    1758    1220    8000   15072   41450    1530    1390\n",
      "    4370    6000    2580    5160    6536    5000   14970    9080     910\n",
      "   16770    2500    1590    3990   20026   12470    4980   16680   16480\n",
      "    4780    3450    5415   16279    2385     120    1398   20990    5539\n",
      "     270   21220    1253   12550     880    9990    3890   19240    3080\n",
      "     460      70     870   26980   13990   24744    4500    8870     600\n",
      "     440     750    1950   37550   31680    9490   11249     470 1294500\n",
      "    2630    4930    3150   17650    5450    5770    1575   20450   11050\n",
      "    2000    2255    1999    7300   18464    6677    2890    6248    5270\n",
      "    4485    7349    3030      50    9232    9934    2840    8990    8780\n",
      "    4410     350   19280   13769    6681    6260    1130   11135   20100\n",
      "    2722    8885    8585    1980   10195   30990    2359     320    2590\n",
      "    8250     580    5350    3140    1910   17379    4840    6930    5690\n",
      "    6090     740   10440    4880    6590   21550   33405    3525   43990\n",
      "   13390     697    4495    8401    6382    2285   10485    6288   11711\n",
      "    3950   25080    1580   35485    9750   27490    1510    1850    4990\n",
      "    3650   33050    5530   27600    1893   31350     360    5249    6716\n",
      "    3559    5790     604    3550     240    2235   10550    4690   12888\n",
      "    7995    3220     495     265    4790     480    1721    2830     340\n",
      "    1870    2670    2420    3261    1634   39800   12990   25890   18990\n",
      "    3826   18010   10250   17030    5119    9870   13860    8877    4620\n",
      "   43690    1846      90    4190   34550   10765    7024    4698    2030\n",
      "   78990   10850     550   16990     620     654    6613   10160    6400\n",
      "    6440   27390    2050     540   42740    9680    5150     410    3680\n",
      "    5227     590    5776    2390   14495    2070    2555   19520   11688\n",
      "    4180    1399   45880    3050     295   17792   24381    1805   28350\n",
      "    6170    3270    2960    1020   10137   14490   67990   86620    4900\n",
      "   49495    3170   37150   19660   45780   24860    1737    1040    9690\n",
      "    1149    5490    1640     840   12490    4740    3480     785    7890\n",
      "    2600    3739     900    3888    1993   13770   20290    2578    5330\n",
      "    5719    2436    5030    4210    2400    8099    1540    6242   18560\n",
      "     150    4600   13740    2790   19990     980    1120   15416    3410\n",
      "    5840    4170   10170     985   22950    1180    1188    2674    4710\n",
      "   18270     770   93940    7110   12642    4920    3290   35890    4363\n",
      "    6445   58220    3740    3500    1600    1420    1729    3250     450\n",
      "   11440    4188     530   13354   17300    2180     160    1960     359\n",
      "     510   19386      75    1885    4040   25790   13203    2250   34990\n",
      "    3430   19490     720      60    7390    3910   58550     800    7240\n",
      "   18350   18463    3330    6660    4283   60450   24350    9050    5170\n",
      "   28750   11250    1730    5900    2348    3600    1320    3806    2907\n",
      "     971   14990     640    8290    5430     820    4685    2610   14250\n",
      "     130   52900    3490    4390    9800   13070   15500    6674    3404\n",
      "   18557    8439    8340   27985    6645    8640    6060    1720   15450\n",
      "    1800    8950    8280    1825    5688    4240    2061   12150    1280\n",
      "    8777    9300    8590    6015    1170    4650   39500    6585    5050\n",
      "   14000   32610   16920   65710     725    6438   66350    3320   11490\n",
      "    7500    7550   11565    2752   28060    1707    6780    5390    3260\n",
      "   17940   24990    3980    8529    5440    2510   18893   92550   52480\n",
      "    4140    3520    3180    4120     370    6385    9368    3780    1329\n",
      "    3020    6180   25250    4940   10380   15380     112   31550    8600\n",
      "    6490  202740]\n",
      "['B' 'A']\n"
     ]
    }
   ],
   "source": [
    "for nameCol in orders.columns.to_list():\n",
    "    print(orders[nameCol].unique())"
   ]
  },
  {
   "cell_type": "markdown",
   "id": "597f9244",
   "metadata": {},
   "source": [
    "Проверка на неявные дубликаты"
   ]
  },
  {
   "cell_type": "code",
   "execution_count": 9,
   "id": "50c9acbc",
   "metadata": {},
   "outputs": [
    {
     "name": "stdout",
     "output_type": "stream",
     "text": [
      "<class 'pandas.core.frame.DataFrame'>\n",
      "RangeIndex: 1197 entries, 0 to 1196\n",
      "Data columns (total 5 columns):\n",
      " #   Column         Non-Null Count  Dtype         \n",
      "---  ------         --------------  -----         \n",
      " 0   transactionId  1197 non-null   int64         \n",
      " 1   visitorId      1197 non-null   int64         \n",
      " 2   date           1197 non-null   datetime64[ns]\n",
      " 3   revenue        1197 non-null   int64         \n",
      " 4   group          1197 non-null   object        \n",
      "dtypes: datetime64[ns](1), int64(3), object(1)\n",
      "memory usage: 105.3 KB\n"
     ]
    }
   ],
   "source": [
    "orders[\"date\"] = orders[\"date\"].astype(np.datetime64)\n",
    "orders.info(memory_usage='deep')"
   ]
  },
  {
   "cell_type": "markdown",
   "id": "c91d5d38",
   "metadata": {},
   "source": [
    "Преобразование поле даты к типу pandas.datetime64"
   ]
  },
  {
   "cell_type": "markdown",
   "id": "29805f36",
   "metadata": {},
   "source": [
    "<h3> Датасет visitors"
   ]
  },
  {
   "cell_type": "code",
   "execution_count": 10,
   "id": "b46f0212",
   "metadata": {},
   "outputs": [
    {
     "name": "stdout",
     "output_type": "stream",
     "text": [
      "<class 'pandas.core.frame.DataFrame'>\n",
      "RangeIndex: 62 entries, 0 to 61\n",
      "Data columns (total 3 columns):\n",
      " #   Column    Non-Null Count  Dtype \n",
      "---  ------    --------------  ----- \n",
      " 0   date      62 non-null     object\n",
      " 1   group     62 non-null     object\n",
      " 2   visitors  62 non-null     int64 \n",
      "dtypes: int64(1), object(2)\n",
      "memory usage: 1.6+ KB\n"
     ]
    }
   ],
   "source": [
    "visitors.info()"
   ]
  },
  {
   "cell_type": "markdown",
   "id": "c6c1f8ae",
   "metadata": {},
   "source": [
    "Оценка данных. Датасет имеет триннадцать столбцов, 62 значений, 2 столбца имеет тип object, другой int."
   ]
  },
  {
   "cell_type": "code",
   "execution_count": 11,
   "id": "940f19f8",
   "metadata": {},
   "outputs": [
    {
     "data": {
      "text/plain": [
       "date        0\n",
       "group       0\n",
       "visitors    0\n",
       "dtype: int64"
      ]
     },
     "execution_count": 11,
     "metadata": {},
     "output_type": "execute_result"
    }
   ],
   "source": [
    "visitors.isna().sum()"
   ]
  },
  {
   "cell_type": "markdown",
   "id": "d8743514",
   "metadata": {},
   "source": [
    "Проверка на пропуски (пропусков не обнаружено)"
   ]
  },
  {
   "cell_type": "code",
   "execution_count": 12,
   "id": "84eae471",
   "metadata": {},
   "outputs": [
    {
     "data": {
      "text/plain": [
       "0"
      ]
     },
     "execution_count": 12,
     "metadata": {},
     "output_type": "execute_result"
    }
   ],
   "source": [
    "visitors.duplicated().sum()"
   ]
  },
  {
   "cell_type": "markdown",
   "id": "1a58958a",
   "metadata": {},
   "source": [
    "Проверка на явные дубликаты (явных дубликатов не обнаружено)"
   ]
  },
  {
   "cell_type": "code",
   "execution_count": 13,
   "id": "8292d250",
   "metadata": {},
   "outputs": [
    {
     "name": "stdout",
     "output_type": "stream",
     "text": [
      "['2019-08-01' '2019-08-02' '2019-08-03' '2019-08-04' '2019-08-05'\n",
      " '2019-08-06' '2019-08-07' '2019-08-08' '2019-08-09' '2019-08-10'\n",
      " '2019-08-11' '2019-08-12' '2019-08-13' '2019-08-14' '2019-08-15'\n",
      " '2019-08-16' '2019-08-17' '2019-08-18' '2019-08-19' '2019-08-20'\n",
      " '2019-08-21' '2019-08-22' '2019-08-23' '2019-08-24' '2019-08-25'\n",
      " '2019-08-26' '2019-08-27' '2019-08-28' '2019-08-29' '2019-08-30'\n",
      " '2019-08-31']\n",
      "['A' 'B']\n",
      "[719 619 507 717 756 667 644 610 617 406 718 595 748 735 628 361 412 668\n",
      " 502 575 646 609 468 395 621 722 711 594 577 490 699 713 581 509 770 707\n",
      " 655 709 654 369 721 543 769 746 544 413 421 737 487 560 656 650 546 378\n",
      " 679 676 720 531]\n"
     ]
    }
   ],
   "source": [
    "for nameCol in visitors.columns.to_list():\n",
    "    print(visitors[nameCol].unique())"
   ]
  },
  {
   "cell_type": "markdown",
   "id": "47b7dc9d",
   "metadata": {},
   "source": [
    "Проверка на неявные дубликаты (неявных дубликатов не обнаружено)"
   ]
  },
  {
   "cell_type": "code",
   "execution_count": 14,
   "id": "26d49ada",
   "metadata": {},
   "outputs": [
    {
     "name": "stdout",
     "output_type": "stream",
     "text": [
      "<class 'pandas.core.frame.DataFrame'>\n",
      "RangeIndex: 62 entries, 0 to 61\n",
      "Data columns (total 3 columns):\n",
      " #   Column    Non-Null Count  Dtype         \n",
      "---  ------    --------------  -----         \n",
      " 0   date      62 non-null     datetime64[ns]\n",
      " 1   group     62 non-null     object        \n",
      " 2   visitors  62 non-null     int64         \n",
      "dtypes: datetime64[ns](1), int64(1), object(1)\n",
      "memory usage: 4.6 KB\n"
     ]
    }
   ],
   "source": [
    "visitors[\"date\"] = visitors[\"date\"].astype(np.datetime64)\n",
    "visitors.info(memory_usage='deep')"
   ]
  },
  {
   "cell_type": "markdown",
   "id": "246e01d6",
   "metadata": {},
   "source": [
    "Преобразование поле даты к типу pandas.datetime64"
   ]
  },
  {
   "cell_type": "markdown",
   "id": "12463f27",
   "metadata": {},
   "source": [
    "### Поиск пересекающихся пользователей в таблице orders и их удаление\n"
   ]
  },
  {
   "cell_type": "code",
   "execution_count": 15,
   "id": "dc6e1908",
   "metadata": {},
   "outputs": [],
   "source": [
    "ordersGroupA = orders[orders['group'] == 'A']\n",
    "ordersGroupB = orders[orders['group'] == 'B']"
   ]
  },
  {
   "cell_type": "code",
   "execution_count": 16,
   "id": "b53036c7",
   "metadata": {},
   "outputs": [
    {
     "name": "stdout",
     "output_type": "stream",
     "text": [
      "Deleted \n",
      "183\n"
     ]
    }
   ],
   "source": [
    "delCnt = 0\n",
    "for indexA, rowOrderA in ordersGroupA.iterrows():\n",
    "    for indexB, rowOrderB in ordersGroupB.iterrows():\n",
    "        if rowOrderA['visitorId'] == rowOrderB['visitorId']:\n",
    "            orders = orders.drop(orders[orders.visitorId == rowOrderA['visitorId']].index)\n",
    "            delCnt += 1\n",
    "            continue\n",
    "            \n",
    "print('Deleted ')\n",
    "print(delCnt)"
   ]
  },
  {
   "cell_type": "markdown",
   "id": "06b19a9d",
   "metadata": {},
   "source": [
    "### Вывод <br>\n",
    "В результате поиска были найдены 183 пересекающихся пользователя"
   ]
  },
  {
   "cell_type": "markdown",
   "id": "8177759c",
   "metadata": {},
   "source": [
    "<h3> Создание массива уникальных пар значений дат и групп теста"
   ]
  },
  {
   "cell_type": "code",
   "execution_count": 17,
   "id": "bcb68042",
   "metadata": {},
   "outputs": [],
   "source": [
    "datesGroups = orders[['date','group']].drop_duplicates()"
   ]
  },
  {
   "cell_type": "markdown",
   "id": "c19ce50a",
   "metadata": {},
   "source": [
    "<h3> Получение агрегированных кумулятивных данных по дням о\n",
    "заказах"
   ]
  },
  {
   "cell_type": "code",
   "execution_count": 18,
   "id": "1ee06850",
   "metadata": {
    "scrolled": true
   },
   "outputs": [
    {
     "data": {
      "text/html": [
       "<div>\n",
       "<style scoped>\n",
       "    .dataframe tbody tr th:only-of-type {\n",
       "        vertical-align: middle;\n",
       "    }\n",
       "\n",
       "    .dataframe tbody tr th {\n",
       "        vertical-align: top;\n",
       "    }\n",
       "\n",
       "    .dataframe thead th {\n",
       "        text-align: right;\n",
       "    }\n",
       "</style>\n",
       "<table border=\"1\" class=\"dataframe\">\n",
       "  <thead>\n",
       "    <tr style=\"text-align: right;\">\n",
       "      <th></th>\n",
       "      <th>date</th>\n",
       "      <th>group</th>\n",
       "      <th>transactionId</th>\n",
       "      <th>visitorId</th>\n",
       "      <th>revenue</th>\n",
       "    </tr>\n",
       "  </thead>\n",
       "  <tbody>\n",
       "    <tr>\n",
       "      <th>55</th>\n",
       "      <td>2019-08-01</td>\n",
       "      <td>A</td>\n",
       "      <td>23</td>\n",
       "      <td>19</td>\n",
       "      <td>142779</td>\n",
       "    </tr>\n",
       "    <tr>\n",
       "      <th>66</th>\n",
       "      <td>2019-08-01</td>\n",
       "      <td>B</td>\n",
       "      <td>17</td>\n",
       "      <td>17</td>\n",
       "      <td>59758</td>\n",
       "    </tr>\n",
       "    <tr>\n",
       "      <th>175</th>\n",
       "      <td>2019-08-02</td>\n",
       "      <td>A</td>\n",
       "      <td>42</td>\n",
       "      <td>36</td>\n",
       "      <td>234381</td>\n",
       "    </tr>\n",
       "    <tr>\n",
       "      <th>173</th>\n",
       "      <td>2019-08-02</td>\n",
       "      <td>B</td>\n",
       "      <td>40</td>\n",
       "      <td>39</td>\n",
       "      <td>221801</td>\n",
       "    </tr>\n",
       "    <tr>\n",
       "      <th>291</th>\n",
       "      <td>2019-08-03</td>\n",
       "      <td>A</td>\n",
       "      <td>66</td>\n",
       "      <td>60</td>\n",
       "      <td>346854</td>\n",
       "    </tr>\n",
       "  </tbody>\n",
       "</table>\n",
       "</div>"
      ],
      "text/plain": [
       "          date group  transactionId  visitorId  revenue\n",
       "55  2019-08-01     A             23         19   142779\n",
       "66  2019-08-01     B             17         17    59758\n",
       "175 2019-08-02     A             42         36   234381\n",
       "173 2019-08-02     B             40         39   221801\n",
       "291 2019-08-03     A             66         60   346854"
      ]
     },
     "execution_count": 18,
     "metadata": {},
     "output_type": "execute_result"
    }
   ],
   "source": [
    "ordersAgreagated = datesGroups.apply(\n",
    "    lambda x: \n",
    "        orders[np.logical_and(\n",
    "            orders['date'] <= x['date'], \n",
    "            orders['group'] == x['group'])\n",
    "        ].\n",
    "        agg({'date' : 'max', \n",
    "             'group' : 'max', \n",
    "             'transactionId' : 'nunique', \n",
    "             'visitorId' : 'nunique', \n",
    "             'revenue' : 'sum'}), axis=1).sort_values(by=['date','group'])\n",
    "ordersAgreagated.head()"
   ]
  },
  {
   "cell_type": "markdown",
   "id": "f6420759",
   "metadata": {},
   "source": [
    "<h3> Получение агрегированных кумулятивных данных по дням о\n",
    "посетителях"
   ]
  },
  {
   "cell_type": "code",
   "execution_count": 19,
   "id": "9e7291b1",
   "metadata": {},
   "outputs": [
    {
     "data": {
      "text/html": [
       "<div>\n",
       "<style scoped>\n",
       "    .dataframe tbody tr th:only-of-type {\n",
       "        vertical-align: middle;\n",
       "    }\n",
       "\n",
       "    .dataframe tbody tr th {\n",
       "        vertical-align: top;\n",
       "    }\n",
       "\n",
       "    .dataframe thead th {\n",
       "        text-align: right;\n",
       "    }\n",
       "</style>\n",
       "<table border=\"1\" class=\"dataframe\">\n",
       "  <thead>\n",
       "    <tr style=\"text-align: right;\">\n",
       "      <th></th>\n",
       "      <th>date</th>\n",
       "      <th>group</th>\n",
       "      <th>visitors</th>\n",
       "    </tr>\n",
       "  </thead>\n",
       "  <tbody>\n",
       "    <tr>\n",
       "      <th>55</th>\n",
       "      <td>2019-08-01</td>\n",
       "      <td>A</td>\n",
       "      <td>719</td>\n",
       "    </tr>\n",
       "    <tr>\n",
       "      <th>66</th>\n",
       "      <td>2019-08-01</td>\n",
       "      <td>B</td>\n",
       "      <td>713</td>\n",
       "    </tr>\n",
       "    <tr>\n",
       "      <th>175</th>\n",
       "      <td>2019-08-02</td>\n",
       "      <td>A</td>\n",
       "      <td>1338</td>\n",
       "    </tr>\n",
       "    <tr>\n",
       "      <th>173</th>\n",
       "      <td>2019-08-02</td>\n",
       "      <td>B</td>\n",
       "      <td>1294</td>\n",
       "    </tr>\n",
       "    <tr>\n",
       "      <th>291</th>\n",
       "      <td>2019-08-03</td>\n",
       "      <td>A</td>\n",
       "      <td>1845</td>\n",
       "    </tr>\n",
       "  </tbody>\n",
       "</table>\n",
       "</div>"
      ],
      "text/plain": [
       "          date group  visitors\n",
       "55  2019-08-01     A       719\n",
       "66  2019-08-01     B       713\n",
       "175 2019-08-02     A      1338\n",
       "173 2019-08-02     B      1294\n",
       "291 2019-08-03     A      1845"
      ]
     },
     "execution_count": 19,
     "metadata": {},
     "output_type": "execute_result"
    }
   ],
   "source": [
    "visitorsAggregated = datesGroups.apply(lambda x: \n",
    "    visitors[np.logical_and(\n",
    "        visitors['date'] <= x['date'], \n",
    "        visitors['group'] == x['group'])\n",
    "    ].\n",
    "    agg({'date' : 'max', \n",
    "         'group' : 'max', \n",
    "         'visitors' : 'sum'}), axis=1).sort_values(by=['date','group'])\n",
    "visitorsAggregated.head()"
   ]
  },
  {
   "cell_type": "markdown",
   "id": "d5840a89",
   "metadata": {},
   "source": [
    "<h3> Объединение данных в одной таблице"
   ]
  },
  {
   "cell_type": "code",
   "execution_count": 20,
   "id": "8b3f6414",
   "metadata": {},
   "outputs": [
    {
     "data": {
      "text/html": [
       "<div>\n",
       "<style scoped>\n",
       "    .dataframe tbody tr th:only-of-type {\n",
       "        vertical-align: middle;\n",
       "    }\n",
       "\n",
       "    .dataframe tbody tr th {\n",
       "        vertical-align: top;\n",
       "    }\n",
       "\n",
       "    .dataframe thead th {\n",
       "        text-align: right;\n",
       "    }\n",
       "</style>\n",
       "<table border=\"1\" class=\"dataframe\">\n",
       "  <thead>\n",
       "    <tr style=\"text-align: right;\">\n",
       "      <th></th>\n",
       "      <th>date</th>\n",
       "      <th>group</th>\n",
       "      <th>orders</th>\n",
       "      <th>byers</th>\n",
       "      <th>revenue</th>\n",
       "      <th>visitors</th>\n",
       "    </tr>\n",
       "  </thead>\n",
       "  <tbody>\n",
       "    <tr>\n",
       "      <th>55</th>\n",
       "      <td>2019-08-01</td>\n",
       "      <td>A</td>\n",
       "      <td>23</td>\n",
       "      <td>19</td>\n",
       "      <td>142779</td>\n",
       "      <td>719</td>\n",
       "    </tr>\n",
       "    <tr>\n",
       "      <th>66</th>\n",
       "      <td>2019-08-01</td>\n",
       "      <td>B</td>\n",
       "      <td>17</td>\n",
       "      <td>17</td>\n",
       "      <td>59758</td>\n",
       "      <td>713</td>\n",
       "    </tr>\n",
       "    <tr>\n",
       "      <th>175</th>\n",
       "      <td>2019-08-02</td>\n",
       "      <td>A</td>\n",
       "      <td>42</td>\n",
       "      <td>36</td>\n",
       "      <td>234381</td>\n",
       "      <td>1338</td>\n",
       "    </tr>\n",
       "    <tr>\n",
       "      <th>173</th>\n",
       "      <td>2019-08-02</td>\n",
       "      <td>B</td>\n",
       "      <td>40</td>\n",
       "      <td>39</td>\n",
       "      <td>221801</td>\n",
       "      <td>1294</td>\n",
       "    </tr>\n",
       "    <tr>\n",
       "      <th>291</th>\n",
       "      <td>2019-08-03</td>\n",
       "      <td>A</td>\n",
       "      <td>66</td>\n",
       "      <td>60</td>\n",
       "      <td>346854</td>\n",
       "      <td>1845</td>\n",
       "    </tr>\n",
       "  </tbody>\n",
       "</table>\n",
       "</div>"
      ],
      "text/plain": [
       "          date group  orders  byers  revenue  visitors\n",
       "55  2019-08-01     A      23     19   142779       719\n",
       "66  2019-08-01     B      17     17    59758       713\n",
       "175 2019-08-02     A      42     36   234381      1338\n",
       "173 2019-08-02     B      40     39   221801      1294\n",
       "291 2019-08-03     A      66     60   346854      1845"
      ]
     },
     "execution_count": 20,
     "metadata": {},
     "output_type": "execute_result"
    }
   ],
   "source": [
    "cumulativeData = ordersAgreagated\n",
    "cumulativeData = cumulativeData.join(visitorsAggregated.drop(['date', 'group'], axis=1), sort=False)\n",
    "cumulativeData.rename(columns={'transactionId': 'orders', 'visitorId': 'byers'}, inplace=True)\n",
    "cumulativeData.head()"
   ]
  },
  {
   "cell_type": "markdown",
   "id": "5cd8d3ca",
   "metadata": {},
   "source": [
    "Изменив названия столбцов, данные были объединены в одну таблицу"
   ]
  },
  {
   "cell_type": "markdown",
   "id": "118bb99d",
   "metadata": {},
   "source": [
    "<h3> Задание по вариантам"
   ]
  },
  {
   "cell_type": "code",
   "execution_count": 21,
   "id": "5cfedd35",
   "metadata": {},
   "outputs": [],
   "source": [
    "cumulativeRevenueA = cumulativeData[cumulativeData['group'] == 'A']\n",
    "cumulativeRevenueB = cumulativeData[cumulativeData['group'] == 'B']"
   ]
  },
  {
   "cell_type": "markdown",
   "id": "08e505aa",
   "metadata": {},
   "source": [
    "Разделение получившегося датафрейма"
   ]
  },
  {
   "cell_type": "code",
   "execution_count": 22,
   "id": "5b3177d1",
   "metadata": {},
   "outputs": [
    {
     "data": {
      "text/html": [
       "<div>\n",
       "<style scoped>\n",
       "    .dataframe tbody tr th:only-of-type {\n",
       "        vertical-align: middle;\n",
       "    }\n",
       "\n",
       "    .dataframe tbody tr th {\n",
       "        vertical-align: top;\n",
       "    }\n",
       "\n",
       "    .dataframe thead th {\n",
       "        text-align: right;\n",
       "    }\n",
       "</style>\n",
       "<table border=\"1\" class=\"dataframe\">\n",
       "  <thead>\n",
       "    <tr style=\"text-align: right;\">\n",
       "      <th></th>\n",
       "      <th>date</th>\n",
       "      <th>group</th>\n",
       "      <th>orders</th>\n",
       "      <th>byers</th>\n",
       "      <th>revenue</th>\n",
       "      <th>visitors</th>\n",
       "    </tr>\n",
       "  </thead>\n",
       "  <tbody>\n",
       "    <tr>\n",
       "      <th>55</th>\n",
       "      <td>2019-08-01</td>\n",
       "      <td>A</td>\n",
       "      <td>23</td>\n",
       "      <td>19</td>\n",
       "      <td>142779</td>\n",
       "      <td>719</td>\n",
       "    </tr>\n",
       "    <tr>\n",
       "      <th>175</th>\n",
       "      <td>2019-08-02</td>\n",
       "      <td>A</td>\n",
       "      <td>42</td>\n",
       "      <td>36</td>\n",
       "      <td>234381</td>\n",
       "      <td>1338</td>\n",
       "    </tr>\n",
       "    <tr>\n",
       "      <th>291</th>\n",
       "      <td>2019-08-03</td>\n",
       "      <td>A</td>\n",
       "      <td>66</td>\n",
       "      <td>60</td>\n",
       "      <td>346854</td>\n",
       "      <td>1845</td>\n",
       "    </tr>\n",
       "    <tr>\n",
       "      <th>499</th>\n",
       "      <td>2019-08-04</td>\n",
       "      <td>A</td>\n",
       "      <td>77</td>\n",
       "      <td>71</td>\n",
       "      <td>388030</td>\n",
       "      <td>2562</td>\n",
       "    </tr>\n",
       "    <tr>\n",
       "      <th>719</th>\n",
       "      <td>2019-08-05</td>\n",
       "      <td>A</td>\n",
       "      <td>99</td>\n",
       "      <td>92</td>\n",
       "      <td>474413</td>\n",
       "      <td>3318</td>\n",
       "    </tr>\n",
       "  </tbody>\n",
       "</table>\n",
       "</div>"
      ],
      "text/plain": [
       "          date group  orders  byers  revenue  visitors\n",
       "55  2019-08-01     A      23     19   142779       719\n",
       "175 2019-08-02     A      42     36   234381      1338\n",
       "291 2019-08-03     A      66     60   346854      1845\n",
       "499 2019-08-04     A      77     71   388030      2562\n",
       "719 2019-08-05     A      99     92   474413      3318"
      ]
     },
     "execution_count": 22,
     "metadata": {},
     "output_type": "execute_result"
    }
   ],
   "source": [
    "cumulativeRevenueA.head()"
   ]
  },
  {
   "cell_type": "code",
   "execution_count": 23,
   "id": "de4ca49d",
   "metadata": {},
   "outputs": [
    {
     "data": {
      "text/html": [
       "<div>\n",
       "<style scoped>\n",
       "    .dataframe tbody tr th:only-of-type {\n",
       "        vertical-align: middle;\n",
       "    }\n",
       "\n",
       "    .dataframe tbody tr th {\n",
       "        vertical-align: top;\n",
       "    }\n",
       "\n",
       "    .dataframe thead th {\n",
       "        text-align: right;\n",
       "    }\n",
       "</style>\n",
       "<table border=\"1\" class=\"dataframe\">\n",
       "  <thead>\n",
       "    <tr style=\"text-align: right;\">\n",
       "      <th></th>\n",
       "      <th>date</th>\n",
       "      <th>group</th>\n",
       "      <th>orders</th>\n",
       "      <th>byers</th>\n",
       "      <th>revenue</th>\n",
       "      <th>visitors</th>\n",
       "    </tr>\n",
       "  </thead>\n",
       "  <tbody>\n",
       "    <tr>\n",
       "      <th>66</th>\n",
       "      <td>2019-08-01</td>\n",
       "      <td>B</td>\n",
       "      <td>17</td>\n",
       "      <td>17</td>\n",
       "      <td>59758</td>\n",
       "      <td>713</td>\n",
       "    </tr>\n",
       "    <tr>\n",
       "      <th>173</th>\n",
       "      <td>2019-08-02</td>\n",
       "      <td>B</td>\n",
       "      <td>40</td>\n",
       "      <td>39</td>\n",
       "      <td>221801</td>\n",
       "      <td>1294</td>\n",
       "    </tr>\n",
       "    <tr>\n",
       "      <th>383</th>\n",
       "      <td>2019-08-03</td>\n",
       "      <td>B</td>\n",
       "      <td>54</td>\n",
       "      <td>53</td>\n",
       "      <td>288850</td>\n",
       "      <td>1803</td>\n",
       "    </tr>\n",
       "    <tr>\n",
       "      <th>498</th>\n",
       "      <td>2019-08-04</td>\n",
       "      <td>B</td>\n",
       "      <td>68</td>\n",
       "      <td>66</td>\n",
       "      <td>385740</td>\n",
       "      <td>2573</td>\n",
       "    </tr>\n",
       "    <tr>\n",
       "      <th>699</th>\n",
       "      <td>2019-08-05</td>\n",
       "      <td>B</td>\n",
       "      <td>89</td>\n",
       "      <td>87</td>\n",
       "      <td>475648</td>\n",
       "      <td>3280</td>\n",
       "    </tr>\n",
       "  </tbody>\n",
       "</table>\n",
       "</div>"
      ],
      "text/plain": [
       "          date group  orders  byers  revenue  visitors\n",
       "66  2019-08-01     B      17     17    59758       713\n",
       "173 2019-08-02     B      40     39   221801      1294\n",
       "383 2019-08-03     B      54     53   288850      1803\n",
       "498 2019-08-04     B      68     66   385740      2573\n",
       "699 2019-08-05     B      89     87   475648      3280"
      ]
     },
     "execution_count": 23,
     "metadata": {},
     "output_type": "execute_result"
    }
   ],
   "source": [
    "cumulativeRevenueB.head()"
   ]
  },
  {
   "cell_type": "markdown",
   "id": "ee80a2e1",
   "metadata": {},
   "source": [
    "### Построение графика"
   ]
  },
  {
   "cell_type": "code",
   "execution_count": 24,
   "id": "5873fad0",
   "metadata": {},
   "outputs": [
    {
     "data": {
      "image/png": "[encoded data removed]",
      "text/plain": [
       "<Figure size 432x288 with 1 Axes>"
      ]
     },
     "metadata": {
      "needs_background": "light"
     },
     "output_type": "display_data"
    }
   ],
   "source": [
    "fig, ax = plt.subplots()\n",
    "\n",
    "ax.plot(cumulativeRevenueA['date'], cumulativeRevenueA['orders']/cumulativeRevenueA['visitors'], linewidth=2.0, label = 'A')\n",
    "ax.plot(cumulativeRevenueB['date'], cumulativeRevenueB['orders']/cumulativeRevenueB['visitors'], linewidth=2.0, label = 'B')\n",
    "\n",
    "ax.set_title('График конверсии по группам')\n",
    "\n",
    "ax.set_xlabel('Дата')\n",
    "ax.set_ylabel('Конверсия')\n",
    "\n",
    "ax.tick_params(axis='x', rotation=70)\n",
    "\n",
    "ax.legend()\n",
    "\n",
    "plt.show()"
   ]
  },
  {
   "cell_type": "markdown",
   "id": "2b31ab41",
   "metadata": {},
   "source": [
    "Согласно варианту нужно было изобразить график конверсии по группам А и B. По оси\n",
    "x – date, по оси y – конверсия."
   ]
  },
  {
   "cell_type": "markdown",
   "id": "4a841ca9",
   "metadata": {},
   "source": [
    "<h3> Вывод"
   ]
  },
  {
   "cell_type": "markdown",
   "id": "8a1de361",
   "metadata": {},
   "source": [
    "На основании полученного графика можем сделать вывод, что:<br>\n",
    "<li>У группы А с течением времени наблюдается спад количества заказов к общему количеству посетителей, при этом этот спад происходит довольно резко и в последствии держится стабильно низко<br>\n",
    "<li>У группы B с течением времени наблюдается быстрый рост данного показателя в первые два дня, затем резкий спад и возврат к среднему значению"
   ]
  },
  {
   "cell_type": "markdown",
   "id": "270ee9c3",
   "metadata": {},
   "source": [
    "### Часть 2"
   ]
  },
  {
   "cell_type": "markdown",
   "id": "66d3b92f",
   "metadata": {},
   "source": [
    "<h3> Датасет log_exp\n"
   ]
  },
  {
   "cell_type": "code",
   "execution_count": 25,
   "id": "75691040",
   "metadata": {},
   "outputs": [],
   "source": [
    "log_exp = pd.read_csv('logs_exp.csv', delimiter='\\t')"
   ]
  },
  {
   "cell_type": "code",
   "execution_count": 26,
   "id": "d260b0af",
   "metadata": {},
   "outputs": [
    {
     "data": {
      "text/html": [
       "<div>\n",
       "<style scoped>\n",
       "    .dataframe tbody tr th:only-of-type {\n",
       "        vertical-align: middle;\n",
       "    }\n",
       "\n",
       "    .dataframe tbody tr th {\n",
       "        vertical-align: top;\n",
       "    }\n",
       "\n",
       "    .dataframe thead th {\n",
       "        text-align: right;\n",
       "    }\n",
       "</style>\n",
       "<table border=\"1\" class=\"dataframe\">\n",
       "  <thead>\n",
       "    <tr style=\"text-align: right;\">\n",
       "      <th></th>\n",
       "      <th>EventName</th>\n",
       "      <th>DeviceIDHash</th>\n",
       "      <th>EventTimestamp</th>\n",
       "      <th>ExpId</th>\n",
       "    </tr>\n",
       "  </thead>\n",
       "  <tbody>\n",
       "    <tr>\n",
       "      <th>0</th>\n",
       "      <td>MainScreenAppear</td>\n",
       "      <td>4575588528974610257</td>\n",
       "      <td>1564029816</td>\n",
       "      <td>246</td>\n",
       "    </tr>\n",
       "    <tr>\n",
       "      <th>1</th>\n",
       "      <td>MainScreenAppear</td>\n",
       "      <td>7416695313311560658</td>\n",
       "      <td>1564053102</td>\n",
       "      <td>246</td>\n",
       "    </tr>\n",
       "    <tr>\n",
       "      <th>2</th>\n",
       "      <td>PaymentScreenSuccessful</td>\n",
       "      <td>3518123091307005509</td>\n",
       "      <td>1564054127</td>\n",
       "      <td>248</td>\n",
       "    </tr>\n",
       "    <tr>\n",
       "      <th>3</th>\n",
       "      <td>CartScreenAppear</td>\n",
       "      <td>3518123091307005509</td>\n",
       "      <td>1564054127</td>\n",
       "      <td>248</td>\n",
       "    </tr>\n",
       "    <tr>\n",
       "      <th>4</th>\n",
       "      <td>PaymentScreenSuccessful</td>\n",
       "      <td>6217807653094995999</td>\n",
       "      <td>1564055322</td>\n",
       "      <td>248</td>\n",
       "    </tr>\n",
       "    <tr>\n",
       "      <th>5</th>\n",
       "      <td>CartScreenAppear</td>\n",
       "      <td>6217807653094995999</td>\n",
       "      <td>1564055323</td>\n",
       "      <td>248</td>\n",
       "    </tr>\n",
       "    <tr>\n",
       "      <th>6</th>\n",
       "      <td>OffersScreenAppear</td>\n",
       "      <td>8351860793733343758</td>\n",
       "      <td>1564066242</td>\n",
       "      <td>246</td>\n",
       "    </tr>\n",
       "    <tr>\n",
       "      <th>7</th>\n",
       "      <td>MainScreenAppear</td>\n",
       "      <td>5682100281902512875</td>\n",
       "      <td>1564085677</td>\n",
       "      <td>246</td>\n",
       "    </tr>\n",
       "    <tr>\n",
       "      <th>8</th>\n",
       "      <td>MainScreenAppear</td>\n",
       "      <td>1850981295691852772</td>\n",
       "      <td>1564086702</td>\n",
       "      <td>247</td>\n",
       "    </tr>\n",
       "    <tr>\n",
       "      <th>9</th>\n",
       "      <td>MainScreenAppear</td>\n",
       "      <td>5407636962369102641</td>\n",
       "      <td>1564112112</td>\n",
       "      <td>246</td>\n",
       "    </tr>\n",
       "    <tr>\n",
       "      <th>10</th>\n",
       "      <td>MainScreenAppear</td>\n",
       "      <td>948465712512390382</td>\n",
       "      <td>1564119214</td>\n",
       "      <td>247</td>\n",
       "    </tr>\n",
       "    <tr>\n",
       "      <th>11</th>\n",
       "      <td>MainScreenAppear</td>\n",
       "      <td>2547684315586332355</td>\n",
       "      <td>1564123826</td>\n",
       "      <td>248</td>\n",
       "    </tr>\n",
       "    <tr>\n",
       "      <th>12</th>\n",
       "      <td>MainScreenAppear</td>\n",
       "      <td>8885295911290764495</td>\n",
       "      <td>1564124085</td>\n",
       "      <td>248</td>\n",
       "    </tr>\n",
       "    <tr>\n",
       "      <th>13</th>\n",
       "      <td>MainScreenAppear</td>\n",
       "      <td>2140904690380565988</td>\n",
       "      <td>1564125732</td>\n",
       "      <td>247</td>\n",
       "    </tr>\n",
       "    <tr>\n",
       "      <th>14</th>\n",
       "      <td>MainScreenAppear</td>\n",
       "      <td>4444236400320272864</td>\n",
       "      <td>1564135560</td>\n",
       "      <td>246</td>\n",
       "    </tr>\n",
       "    <tr>\n",
       "      <th>15</th>\n",
       "      <td>MainScreenAppear</td>\n",
       "      <td>8947220251154009657</td>\n",
       "      <td>1564140668</td>\n",
       "      <td>248</td>\n",
       "    </tr>\n",
       "    <tr>\n",
       "      <th>16</th>\n",
       "      <td>MainScreenAppear</td>\n",
       "      <td>5839517684026830712</td>\n",
       "      <td>1564141421</td>\n",
       "      <td>247</td>\n",
       "    </tr>\n",
       "    <tr>\n",
       "      <th>17</th>\n",
       "      <td>MainScreenAppear</td>\n",
       "      <td>7540130374989658208</td>\n",
       "      <td>1564144283</td>\n",
       "      <td>248</td>\n",
       "    </tr>\n",
       "    <tr>\n",
       "      <th>18</th>\n",
       "      <td>CartScreenAppear</td>\n",
       "      <td>2575393697599976818</td>\n",
       "      <td>1564148945</td>\n",
       "      <td>247</td>\n",
       "    </tr>\n",
       "    <tr>\n",
       "      <th>19</th>\n",
       "      <td>MainScreenAppear</td>\n",
       "      <td>4651149533106703820</td>\n",
       "      <td>1564149866</td>\n",
       "      <td>246</td>\n",
       "    </tr>\n",
       "  </tbody>\n",
       "</table>\n",
       "</div>"
      ],
      "text/plain": [
       "                  EventName         DeviceIDHash  EventTimestamp  ExpId\n",
       "0          MainScreenAppear  4575588528974610257      1564029816    246\n",
       "1          MainScreenAppear  7416695313311560658      1564053102    246\n",
       "2   PaymentScreenSuccessful  3518123091307005509      1564054127    248\n",
       "3          CartScreenAppear  3518123091307005509      1564054127    248\n",
       "4   PaymentScreenSuccessful  6217807653094995999      1564055322    248\n",
       "5          CartScreenAppear  6217807653094995999      1564055323    248\n",
       "6        OffersScreenAppear  8351860793733343758      1564066242    246\n",
       "7          MainScreenAppear  5682100281902512875      1564085677    246\n",
       "8          MainScreenAppear  1850981295691852772      1564086702    247\n",
       "9          MainScreenAppear  5407636962369102641      1564112112    246\n",
       "10         MainScreenAppear   948465712512390382      1564119214    247\n",
       "11         MainScreenAppear  2547684315586332355      1564123826    248\n",
       "12         MainScreenAppear  8885295911290764495      1564124085    248\n",
       "13         MainScreenAppear  2140904690380565988      1564125732    247\n",
       "14         MainScreenAppear  4444236400320272864      1564135560    246\n",
       "15         MainScreenAppear  8947220251154009657      1564140668    248\n",
       "16         MainScreenAppear  5839517684026830712      1564141421    247\n",
       "17         MainScreenAppear  7540130374989658208      1564144283    248\n",
       "18         CartScreenAppear  2575393697599976818      1564148945    247\n",
       "19         MainScreenAppear  4651149533106703820      1564149866    246"
      ]
     },
     "execution_count": 26,
     "metadata": {},
     "output_type": "execute_result"
    }
   ],
   "source": [
    "log_exp.head(20)"
   ]
  },
  {
   "cell_type": "markdown",
   "id": "e463ead8",
   "metadata": {},
   "source": [
    "Вывод первых 20 строк датафрейма. Датасет  информацию о действиях пользователя<br>\n",
    "\n",
    "<li>EventName — название события;<br>\n",
    "<li>DeviceIDHash — уникальный идентификатор пользователя;<br>\n",
    "<li>EventTimestamp — время события;<br>\n",
    "<li>ExpId — номер эксперимента: 246 и 247 — контрольные группы, а 248— экспериментальная.<br>"
   ]
  },
  {
   "cell_type": "code",
   "execution_count": 27,
   "id": "59177de0",
   "metadata": {},
   "outputs": [
    {
     "name": "stdout",
     "output_type": "stream",
     "text": [
      "<class 'pandas.core.frame.DataFrame'>\n",
      "RangeIndex: 244126 entries, 0 to 244125\n",
      "Data columns (total 4 columns):\n",
      " #   Column          Non-Null Count   Dtype \n",
      "---  ------          --------------   ----- \n",
      " 0   EventName       244126 non-null  object\n",
      " 1   DeviceIDHash    244126 non-null  int64 \n",
      " 2   EventTimestamp  244126 non-null  int64 \n",
      " 3   ExpId           244126 non-null  int64 \n",
      "dtypes: int64(3), object(1)\n",
      "memory usage: 7.5+ MB\n"
     ]
    }
   ],
   "source": [
    "log_exp.info()"
   ]
  },
  {
   "cell_type": "markdown",
   "id": "79f877e4",
   "metadata": {},
   "source": [
    "Оценка данных. Датасет имеет триннадцать столбцов, 244126 значений, 3 столбца имеет тип int, другой object"
   ]
  },
  {
   "cell_type": "code",
   "execution_count": 28,
   "id": "52f0d35a",
   "metadata": {},
   "outputs": [
    {
     "data": {
      "text/plain": [
       "EventName         0\n",
       "DeviceIDHash      0\n",
       "EventTimestamp    0\n",
       "ExpId             0\n",
       "dtype: int64"
      ]
     },
     "execution_count": 28,
     "metadata": {},
     "output_type": "execute_result"
    }
   ],
   "source": [
    "log_exp.isna().sum()"
   ]
  },
  {
   "cell_type": "markdown",
   "id": "ba2f3c38",
   "metadata": {},
   "source": [
    "Проверка на пропуски (пропусков не обнаружено)"
   ]
  },
  {
   "cell_type": "code",
   "execution_count": 29,
   "id": "946b88b1",
   "metadata": {},
   "outputs": [
    {
     "data": {
      "text/plain": [
       "413"
      ]
     },
     "execution_count": 29,
     "metadata": {},
     "output_type": "execute_result"
    }
   ],
   "source": [
    "log_exp.duplicated().sum()"
   ]
  },
  {
   "cell_type": "markdown",
   "id": "d3d913a4",
   "metadata": {},
   "source": [
    "Проверка на явные дубликаты (обнаружено 413 дубликатов)"
   ]
  },
  {
   "cell_type": "code",
   "execution_count": 30,
   "id": "26b20d19",
   "metadata": {},
   "outputs": [
    {
     "data": {
      "text/plain": [
       "0"
      ]
     },
     "execution_count": 30,
     "metadata": {},
     "output_type": "execute_result"
    }
   ],
   "source": [
    "log_exp = log_exp.drop_duplicates().reset_index()\n",
    "log_exp.duplicated().sum()"
   ]
  },
  {
   "cell_type": "markdown",
   "id": "6274c771",
   "metadata": {},
   "source": [
    "Удаление явных дубликатов"
   ]
  },
  {
   "cell_type": "code",
   "execution_count": 31,
   "id": "a719ed01",
   "metadata": {},
   "outputs": [
    {
     "name": "stdout",
     "output_type": "stream",
     "text": [
      "[     0      1      2 ... 244123 244124 244125]\n",
      "['MainScreenAppear' 'PaymentScreenSuccessful' 'CartScreenAppear'\n",
      " 'OffersScreenAppear' 'Tutorial']\n",
      "[4575588528974610257 7416695313311560658 3518123091307005509 ...\n",
      " 6660805781687343085 7823752606740475984 3454683894921357834]\n",
      "[1564029816 1564053102 1564054127 ... 1565212483 1565212498 1565212517]\n",
      "[246 248 247]\n"
     ]
    }
   ],
   "source": [
    "for nameCol in log_exp.columns.to_list():\n",
    "    print(log_exp[nameCol].unique())"
   ]
  },
  {
   "cell_type": "markdown",
   "id": "68afb1e4",
   "metadata": {},
   "source": [
    "Проверка на неявные дубликаты (неявных дубликатов не обнаружено)"
   ]
  },
  {
   "cell_type": "markdown",
   "id": "072d3f88",
   "metadata": {},
   "source": [
    "\n",
    "<h3> Вывод на экран количества каждого события в порядке убывания\n",
    "частоты.\n"
   ]
  },
  {
   "cell_type": "code",
   "execution_count": 32,
   "id": "84a6b8e7",
   "metadata": {},
   "outputs": [
    {
     "name": "stdout",
     "output_type": "stream",
     "text": [
      "                          Count\n",
      "EventName                      \n",
      "MainScreenAppear         119101\n",
      "OffersScreenAppear        46808\n",
      "CartScreenAppear          42668\n",
      "PaymentScreenSuccessful   34118\n",
      "Tutorial                   1018\n"
     ]
    }
   ],
   "source": [
    "dfP5 = log_exp\n",
    "dfP5['Count'] = [1 for i in range(0, len(dfP5))]\n",
    "dfP5 = dfP5[['EventName', 'Count']]\n",
    "print(dfP5.groupby('EventName').count().sort_values(by='Count', ascending=False))"
   ]
  },
  {
   "cell_type": "markdown",
   "id": "b637d0f5",
   "metadata": {},
   "source": [
    "### Вывод:\n",
    "Чаще всего встречается событие MainScreenAppear"
   ]
  },
  {
   "cell_type": "markdown",
   "id": "1d635e7c",
   "metadata": {},
   "source": [
    "<h3> Подсчет количества пользователей, совершавших каждое из  событий"
   ]
  },
  {
   "cell_type": "code",
   "execution_count": 33,
   "id": "45799889",
   "metadata": {
    "scrolled": true
   },
   "outputs": [
    {
     "name": "stdout",
     "output_type": "stream",
     "text": [
      "                        DeviceIDHash\n",
      "                             nunique\n",
      "EventName                           \n",
      "CartScreenAppear                3749\n",
      "MainScreenAppear                7439\n",
      "OffersScreenAppear              4613\n",
      "PaymentScreenSuccessful         3547\n",
      "Tutorial                         847\n"
     ]
    }
   ],
   "source": [
    "print(log_exp.groupby('EventName').agg(\n",
    "    {'DeviceIDHash': ['nunique']}))"
   ]
  },
  {
   "cell_type": "markdown",
   "id": "7ef33549",
   "metadata": {},
   "source": [
    "### Вывод: <br>\n",
    "<li> Событие CartScreenAppear было совершено 3749 раз <br>\n",
    "<li> Событие MainScreenAppear было совершено 7439 раз <br>\n",
    "<li> Событие OffersScreenAppear было совершено 4613 раз <br>\n",
    "<li> Событие PaymentScreenSuccessful было совершено 3547 раз <br>\n",
    "<li> Событие Tutorial было совершено 847 раз <br>"
   ]
  },
  {
   "cell_type": "markdown",
   "id": "f9c5eb92",
   "metadata": {},
   "source": [
    "<h3> Определение количества пользователей в каждой группе"
   ]
  },
  {
   "cell_type": "code",
   "execution_count": 34,
   "id": "95d1ff0a",
   "metadata": {},
   "outputs": [
    {
     "data": {
      "text/html": [
       "<div>\n",
       "<style scoped>\n",
       "    .dataframe tbody tr th:only-of-type {\n",
       "        vertical-align: middle;\n",
       "    }\n",
       "\n",
       "    .dataframe tbody tr th {\n",
       "        vertical-align: top;\n",
       "    }\n",
       "\n",
       "    .dataframe thead th {\n",
       "        text-align: right;\n",
       "    }\n",
       "</style>\n",
       "<table border=\"1\" class=\"dataframe\">\n",
       "  <thead>\n",
       "    <tr style=\"text-align: right;\">\n",
       "      <th></th>\n",
       "      <th>ExpId</th>\n",
       "      <th>DeviceIDHash</th>\n",
       "    </tr>\n",
       "  </thead>\n",
       "  <tbody>\n",
       "    <tr>\n",
       "      <th>0</th>\n",
       "      <td>246</td>\n",
       "      <td>2489</td>\n",
       "    </tr>\n",
       "    <tr>\n",
       "      <th>1</th>\n",
       "      <td>247</td>\n",
       "      <td>2520</td>\n",
       "    </tr>\n",
       "    <tr>\n",
       "      <th>2</th>\n",
       "      <td>248</td>\n",
       "      <td>2542</td>\n",
       "    </tr>\n",
       "  </tbody>\n",
       "</table>\n",
       "</div>"
      ],
      "text/plain": [
       "   ExpId  DeviceIDHash\n",
       "0    246          2489\n",
       "1    247          2520\n",
       "2    248          2542"
      ]
     },
     "execution_count": 34,
     "metadata": {},
     "output_type": "execute_result"
    }
   ],
   "source": [
    "\n",
    "users = log_exp.groupby('ExpId')['DeviceIDHash'].nunique().reset_index() \n",
    "users"
   ]
  },
  {
   "cell_type": "markdown",
   "id": "85e032d1",
   "metadata": {},
   "source": [
    "### Вывод: <br>\n",
    "<li> В группе \"246\" 2489 уникальных пользователя <br>\n",
    "<li> В группе \"247\" 2520 уникальных пользователя <br>\n",
    "<li> В группе \"248\" 2542 уникальных пользователя <br>"
   ]
  },
  {
   "cell_type": "markdown",
   "id": "93382fc3",
   "metadata": {},
   "source": [
    "<h3> Поиск пользователей, которые пересекаются (присутствуют в обоих\n",
    "группах)\n"
   ]
  },
  {
   "cell_type": "code",
   "execution_count": 35,
   "id": "8bf93801",
   "metadata": {},
   "outputs": [
    {
     "name": "stdout",
     "output_type": "stream",
     "text": [
      "                      ExpId\n",
      "                    nunique\n",
      "DeviceIDHash               \n",
      "6888746892508752          1\n",
      "6909561520679493          1\n",
      "6922444491712477          1\n",
      "7435777799948366          1\n",
      "7702139951469979          1\n",
      "...                     ...\n",
      "9217594193087726423       1\n",
      "9219463515465815368       1\n",
      "9220879493065341500       1\n",
      "9221926045299980007       1\n",
      "9222603179720523844       1\n",
      "\n",
      "[7551 rows x 1 columns]\n"
     ]
    }
   ],
   "source": [
    "a = log_exp.groupby('DeviceIDHash').agg(\n",
    "    {'ExpId': ['nunique']})\n",
    "print(log_exp.groupby('DeviceIDHash').agg(\n",
    "    {'ExpId': ['nunique']}))"
   ]
  },
  {
   "cell_type": "code",
   "execution_count": 36,
   "id": "1c37f909",
   "metadata": {},
   "outputs": [],
   "source": [
    "for el in a.itertuples():\n",
    "    a1, a2 = el\n",
    "    if a2 > 1:\n",
    "        print(a1)"
   ]
  },
  {
   "cell_type": "markdown",
   "id": "4ce8064e",
   "metadata": {},
   "source": [
    "### Вывод: <br>\n",
    "Пересекающиеся пользователи не были найдены"
   ]
  },
  {
   "cell_type": "markdown",
   "id": "e1a75542",
   "metadata": {},
   "source": [
    "<h3>Проведение А/А теста"
   ]
  },
  {
   "cell_type": "markdown",
   "id": "e8a3b2a8",
   "metadata": {},
   "source": [
    "Условие:<br>\n",
    "Нулевая гипотеза - группы 246 и 247 не имеют различий<br>\n",
    "Альтернативная гипотеза - группа 246 и 247 отличаются"
   ]
  },
  {
   "cell_type": "code",
   "execution_count": 37,
   "id": "1ded0b4a",
   "metadata": {},
   "outputs": [
    {
     "data": {
      "text/plain": [
       "Index(['index', 'event_name', 'user_id', 'event_time', 'group', 'Count'], dtype='object')"
      ]
     },
     "execution_count": 37,
     "metadata": {},
     "output_type": "execute_result"
    }
   ],
   "source": [
    "logs = log_exp.rename(columns={'EventName':'event_name','DeviceIDHash': 'user_id', 'EventTimestamp': 'event_time','ExpId':'group'})\n",
    "logs.columns"
   ]
  },
  {
   "cell_type": "code",
   "execution_count": 43,
   "id": "913b3d51",
   "metadata": {},
   "outputs": [],
   "source": [
    "def ab_test(logs, groups, alpha):\n",
    "    # уникальные пользователи в каждой \n",
    "    users = [logs.query('group == @group_id')['user_id'].nunique() for group_id in groups]\n",
    "    # экспериментальные группы для каждого события, количество пользователей и доля\n",
    "    for event in logs.event_name.unique():\n",
    "        events = [logs.query('group == %d and event_name == \"%s\"' % (group_id, event))['user_id'].nunique() for group_id in groups]\n",
    "        \n",
    "        p1 = events[0] / users[0] #считаем долю для 1 группы\n",
    "        p2 = events[1] / users[1] #считаем долю для 2 группы\n",
    "        \n",
    "        p_combined = sum(events) / sum(users) \n",
    "        \n",
    "        difference = p1 - p2 \n",
    "        \n",
    "        z_value = difference / math.sqrt(\n",
    "            p_combined * (1 - p_combined) * (1 / users[0] + 1 / users[1]))\n",
    "        \n",
    "        distr = st.norm(0, 1)\n",
    "        p_value = (1 - distr.cdf(abs(z_value))) * 2 \n",
    "        \n",
    "        print('Событие:',event)\n",
    "        print('Доли:',p1, p2)\n",
    "        print('p-значение: ', p_value)\n",
    "        if p_value < alpha:\n",
    "            print('Отвергаем нулевую гипотезу по событию %s: между долями есть значимая разница' % (event))\n",
    "        else:\n",
    "            print('Не получилось отвергнуть нулевую гипотезу по событию %s: нет оснований считать доли разными' % (event))\n",
    "            \n",
    "        print(' ')"
   ]
  },
  {
   "cell_type": "code",
   "execution_count": 44,
   "id": "addb733a",
   "metadata": {},
   "outputs": [
    {
     "name": "stdout",
     "output_type": "stream",
     "text": [
      "Событие: MainScreenAppear\n",
      "Доли: 0.9867416633186018 0.984920634920635\n",
      "p-значение:  0.5856639791209877\n",
      "Не получилось отвергнуть нулевую гипотезу по событию MainScreenAppear: нет оснований считать доли разными\n",
      " \n",
      "Событие: PaymentScreenSuccessful\n",
      "Доли: 0.4829248694254721 0.4603174603174603\n",
      "p-значение:  0.10902546202332886\n",
      "Не получилось отвергнуть нулевую гипотезу по событию PaymentScreenSuccessful: нет оснований считать доли разными\n",
      " \n",
      "Событие: CartScreenAppear\n",
      "Доли: 0.5102450783447168 0.49206349206349204\n",
      "p-значение:  0.19817540651836918\n",
      "Не получилось отвергнуть нулевую гипотезу по событию CartScreenAppear: нет оснований считать доли разными\n",
      " \n",
      "Событие: OffersScreenAppear\n",
      "Доли: 0.620731217356368 0.6071428571428571\n",
      "p-значение:  0.3233225048227193\n",
      "Не получилось отвергнуть нулевую гипотезу по событию OffersScreenAppear: нет оснований считать доли разными\n",
      " \n",
      "Событие: Tutorial\n",
      "Доли: 0.11209321012454801 0.11349206349206349\n",
      "p-значение:  0.8756574258016974\n",
      "Не получилось отвергнуть нулевую гипотезу по событию Tutorial: нет оснований считать доли разными\n",
      " \n"
     ]
    }
   ],
   "source": [
    "ab_test(logs, [246, 247], 0.05)"
   ]
  },
  {
   "cell_type": "markdown",
   "id": "29692bc6",
   "metadata": {},
   "source": [
    "### Проведение А/В теста"
   ]
  },
  {
   "cell_type": "markdown",
   "id": "a2b53362",
   "metadata": {},
   "source": [
    "Условие:<br>\n",
    "Нулевая гипотеза - группы 246 и 248 не имеют различий<br>\n",
    "Альтернативная гипотеза - группа 246 и 248 отличаются"
   ]
  },
  {
   "cell_type": "code",
   "execution_count": 45,
   "id": "ccfa5eb5",
   "metadata": {},
   "outputs": [
    {
     "name": "stdout",
     "output_type": "stream",
     "text": [
      "Событие: MainScreenAppear\n",
      "Доли: 0.9867416633186018 0.9838709677419355\n",
      "p-значение:  0.39774960182882513\n",
      "Не получилось отвергнуть нулевую гипотезу по событию MainScreenAppear: нет оснований считать доли разными\n",
      " \n",
      "Событие: PaymentScreenSuccessful\n",
      "Доли: 0.4829248694254721 0.466168371361133\n",
      "p-значение:  0.23403912852637143\n",
      "Не получилось отвергнуть нулевую гипотезу по событию PaymentScreenSuccessful: нет оснований считать доли разными\n",
      " \n",
      "Событие: CartScreenAppear\n",
      "Доли: 0.5102450783447168 0.487411487018096\n",
      "p-значение:  0.10534150642722295\n",
      "Не получилось отвергнуть нулевую гипотезу по событию CartScreenAppear: нет оснований считать доли разными\n",
      " \n",
      "Событие: OffersScreenAppear\n",
      "Доли: 0.620731217356368 0.6050354051927616\n",
      "p-значение:  0.2531656758489338\n",
      "Не получилось отвергнуть нулевую гипотезу по событию OffersScreenAppear: нет оснований считать доли разными\n",
      " \n",
      "Событие: Tutorial\n",
      "Доли: 0.11209321012454801 0.1109362706530291\n",
      "p-значение:  0.8962914725257976\n",
      "Не получилось отвергнуть нулевую гипотезу по событию Tutorial: нет оснований считать доли разными\n",
      " \n"
     ]
    }
   ],
   "source": [
    "ab_test(logs, [246, 248], 0.05)"
   ]
  },
  {
   "cell_type": "markdown",
   "id": "3b6597a2",
   "metadata": {},
   "source": [
    "### Вывод по лабораторной работе:"
   ]
  },
  {
   "cell_type": "markdown",
   "id": "bf58c340",
   "metadata": {},
   "source": [
    "В ходе выполнения лабораторной работы были изучены алгоритмы для проведения A/B тестирования для\n",
    "принятия решений.<br>\n",
    "Была проведена предварительная обработка для трех датасетов.<br>\n",
    "акже был создан массив уникальных пар значений дат и групп теста, получены агрегированные кумулятивные данные по дням о заказах и по дням о посетителях. Произведено объединение данных в одной таблице: date, group, orders, buyers, revenue, visitors.<br>\n",
    "Затем было выполнено задание по вариантам. В ходе задания по вариантам был изображен  график конверсии по группам А и B.<br>\n",
    "Во второй части задания был выполнен вывод на экран каждого события в порядке убывания частоты, подсчитано сколько пользователей совершали каждое из этих событий, определено количество пользователей в каждой группе, произведен поиск пользователей, которые пересекаются в группа, но такие не выявлены. <br>\n",
    "Затем были выполнены А/А и А/В тесты. A/B-тестирование — обязательный подход к проверке продуктовых гипотез. В зависимости от ситуации мы используем несколько методов оценки, но в данной работе использовали Z-тест — класс методов статистической проверки гипотез (статистических критериев), основанных на нормальном распределении. Z-тест подразумевает проверку гипотезы, которая устанавливает, отличаются ли средние значения двух наборов данных друг от друга, когда дается дисперсия.\n",
    "\n"
   ]
  },
  {
   "cell_type": "markdown",
   "id": "913a00e0",
   "metadata": {},
   "source": [
    "### Дополнительное задание"
   ]
  },
  {
   "cell_type": "markdown",
   "id": "32883dc8",
   "metadata": {},
   "source": [
    "Изобразить точечный график числа заказов по\n",
    "пользователям. Для этого с помощью groupby получить таблицу ordersByUsers."
   ]
  },
  {
   "cell_type": "code",
   "execution_count": 47,
   "id": "5f7f8842",
   "metadata": {},
   "outputs": [
    {
     "data": {
      "text/html": [
       "<div>\n",
       "<style scoped>\n",
       "    .dataframe tbody tr th:only-of-type {\n",
       "        vertical-align: middle;\n",
       "    }\n",
       "\n",
       "    .dataframe tbody tr th {\n",
       "        vertical-align: top;\n",
       "    }\n",
       "\n",
       "    .dataframe thead th {\n",
       "        text-align: right;\n",
       "    }\n",
       "</style>\n",
       "<table border=\"1\" class=\"dataframe\">\n",
       "  <thead>\n",
       "    <tr style=\"text-align: right;\">\n",
       "      <th></th>\n",
       "      <th>visitorId</th>\n",
       "      <th>orders</th>\n",
       "    </tr>\n",
       "  </thead>\n",
       "  <tbody>\n",
       "    <tr>\n",
       "      <th>908</th>\n",
       "      <td>3967698036</td>\n",
       "      <td>3</td>\n",
       "    </tr>\n",
       "    <tr>\n",
       "      <th>55</th>\n",
       "      <td>249864742</td>\n",
       "      <td>3</td>\n",
       "    </tr>\n",
       "    <tr>\n",
       "      <th>478</th>\n",
       "      <td>2108163459</td>\n",
       "      <td>3</td>\n",
       "    </tr>\n",
       "    <tr>\n",
       "      <th>687</th>\n",
       "      <td>2988190573</td>\n",
       "      <td>3</td>\n",
       "    </tr>\n",
       "    <tr>\n",
       "      <th>890</th>\n",
       "      <td>3908431265</td>\n",
       "      <td>3</td>\n",
       "    </tr>\n",
       "    <tr>\n",
       "      <th>138</th>\n",
       "      <td>611059232</td>\n",
       "      <td>3</td>\n",
       "    </tr>\n",
       "    <tr>\n",
       "      <th>632</th>\n",
       "      <td>2742574263</td>\n",
       "      <td>3</td>\n",
       "    </tr>\n",
       "    <tr>\n",
       "      <th>157</th>\n",
       "      <td>678354126</td>\n",
       "      <td>2</td>\n",
       "    </tr>\n",
       "    <tr>\n",
       "      <th>323</th>\n",
       "      <td>1404560065</td>\n",
       "      <td>2</td>\n",
       "    </tr>\n",
       "    <tr>\n",
       "      <th>452</th>\n",
       "      <td>1985475298</td>\n",
       "      <td>2</td>\n",
       "    </tr>\n",
       "  </tbody>\n",
       "</table>\n",
       "</div>"
      ],
      "text/plain": [
       "      visitorId  orders\n",
       "908  3967698036       3\n",
       "55    249864742       3\n",
       "478  2108163459       3\n",
       "687  2988190573       3\n",
       "890  3908431265       3\n",
       "138   611059232       3\n",
       "632  2742574263       3\n",
       "157   678354126       2\n",
       "323  1404560065       2\n",
       "452  1985475298       2"
      ]
     },
     "execution_count": 47,
     "metadata": {},
     "output_type": "execute_result"
    }
   ],
   "source": [
    "ordersByUsers = (\n",
    "    orders.drop(['group', 'revenue', 'date'], axis=1)\n",
    "    .groupby('visitorId', as_index=False)\n",
    "    .agg({'transactionId': pd.Series.nunique})\n",
    ")\n",
    "\n",
    "ordersByUsers.columns = ['visitorId', 'orders']\n",
    "\n",
    "ordersByUsers.sort_values(by='orders', ascending=False).head(10)"
   ]
  },
  {
   "cell_type": "markdown",
   "id": "afd5ad66",
   "metadata": {},
   "source": [
    "### Построение графика"
   ]
  },
  {
   "cell_type": "code",
   "execution_count": 48,
   "id": "4caacca1",
   "metadata": {},
   "outputs": [
    {
     "data": {
      "image/png": "[encoded data removed]",
      "text/plain": [
       "<Figure size 1080x720 with 1 Axes>"
      ]
     },
     "metadata": {
      "needs_background": "light"
     },
     "output_type": "display_data"
    }
   ],
   "source": [
    "x_values = pd.Series(range(0,len(ordersByUsers)))\n",
    "plt.figure(figsize=(15,10))\n",
    "plt.ylabel('Количество заказов')\n",
    "plt.xlabel('Пользователи')\n",
    "plt.title('Точечная диаграмма числа заказов на одного пользователя')\n",
    "plt.grid()\n",
    "plt.scatter(x_values, ordersByUsers['orders']);"
   ]
  },
  {
   "cell_type": "markdown",
   "id": "afe62209",
   "metadata": {},
   "source": [
    "### Вывод"
   ]
  },
  {
   "cell_type": "markdown",
   "id": "f3a15477",
   "metadata": {},
   "source": [
    "На основании полученного графика можем сделать вывод, что:<br>\n",
    "<li>Большинство посетителей совершили только один заказ<br>\n",
    "<li>Посетителей, совершивших три заказа почти нет<br>\n",
    "<li>Посетителей, совершивших больше трех заказов не существует"
   ]
  }
 ],
 "metadata": {
  "kernelspec": {
   "display_name": "Python 3 (ipykernel)",
   "language": "python",
   "name": "python3"
  },
  "language_info": {
   "codemirror_mode": {
    "name": "ipython",
    "version": 3
   },
   "file_extension": ".py",
   "mimetype": "text/x-python",
   "name": "python",
   "nbconvert_exporter": "python",
   "pygments_lexer": "ipython3",
   "version": "3.9.12"
  }
 },
 "nbformat": 4,
 "nbformat_minor": 5
}
